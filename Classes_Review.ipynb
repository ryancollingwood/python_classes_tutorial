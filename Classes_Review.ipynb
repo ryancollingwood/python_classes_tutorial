{
 "cells": [
  {
   "cell_type": "markdown",
   "metadata": {},
   "source": [
    "# What Are Classes?\n",
    "\n",
    "Classes are a way for us to create \"complex custom datatypes\".\n",
    "Think of classes as a blueprint of thing we want to represent in our code.\n",
    "\n",
    "For instance I could create an Animal class, to represent animals. The syntax for defining a class is\n",
    "```python\n",
    "class NameOfMyClass:\n",
    "    ...\n",
    "```\n",
    "\n",
    "The keyword **class** tells python that we want to create our code, which when then follow with the name of our new \"complex custom datatype\""
   ]
  },
  {
   "cell_type": "code",
   "execution_count": 1,
   "metadata": {},
   "outputs": [],
   "source": [
    "class Animal:\n",
    "    pass"
   ]
  },
  {
   "cell_type": "markdown",
   "metadata": {},
   "source": [
    "Lets create an instance of Animal and assign it to a variable.\n",
    "```python\n",
    "my_variable_name = NameOfMyClass()\n",
    "```"
   ]
  },
  {
   "cell_type": "code",
   "execution_count": 2,
   "metadata": {},
   "outputs": [
    {
     "name": "stdout",
     "output_type": "stream",
     "text": [
      "<class '__main__.Animal'>\n"
     ]
    }
   ],
   "source": [
    "r = Animal()\n",
    "print(type(r))"
   ]
  },
  {
   "cell_type": "markdown",
   "metadata": {},
   "source": [
    "## Instance?\n",
    "\n",
    "Instance means we have created a variable using the \"blueprint\" dictated by a Class.\n",
    "\n",
    "Consider Ninja Turtles.\n",
    "\n",
    "![](Resources/tmnt.jpg)\n",
    "\n",
    "* Leonardo is a Ninja Turtle.\n",
    "* Raphael is a Ninja Turtle.\n",
    "* Donatello is a Ninja Turtle.\n",
    "* Michelangelo is a Ninja Turtle.\n",
    "\n",
    "Thus:\n",
    "\n",
    "* Leonardo is an instance of Ninja Turtle.\n",
    "* Raphael is an instance of Ninja Turtle.\n",
    "* Donatello is an instance of Ninja Turtle.\n",
    "* Michelangelo is an instance of Ninja Turtle.\n",
    "\n",
    "They all have the attributes of being a Ninja Turtle (wearing a mask, having a shell, ninja abilities) but the values of those attributes differ between each Ninja Turtle."
   ]
  },
  {
   "cell_type": "markdown",
   "metadata": {},
   "source": [
    "# Attributes - Adding Data to Instances of a Class\n",
    "\n",
    "As we can see my variable `r` is of type `Animal`.\n",
    "\n",
    "At the moment `Animals` don't do anything or contain any specific information. \n",
    "Let's alter our class so that it can contain information for specific animals.\n",
    "\n",
    "In order to do this we need to define a special function in our class called `__init__`.\n",
    "Into this `__init__` we need to pass in at least one variable - which we will refer to as `self`.\n",
    "\n",
    "`self` allows us to refer to the data and methods of a specific instance of our class."
   ]
  },
  {
   "cell_type": "code",
   "execution_count": 3,
   "metadata": {},
   "outputs": [],
   "source": [
    "class Animal:\n",
    "    def __init__(self, name):\n",
    "        self.name = name"
   ]
  },
  {
   "cell_type": "markdown",
   "metadata": {},
   "source": [
    "So if we create an instance of `Animal` we now need to pass in a value for `name`."
   ]
  },
  {
   "cell_type": "code",
   "execution_count": 4,
   "metadata": {},
   "outputs": [],
   "source": [
    "r = Animal(\"Rabbit\")"
   ]
  },
  {
   "cell_type": "markdown",
   "metadata": {},
   "source": [
    "We can refer to the attributes and methods available in an instance of class using the dot notation `.`  - just like we've been doing with `pd.read_csv`"
   ]
  },
  {
   "cell_type": "code",
   "execution_count": 5,
   "metadata": {},
   "outputs": [
    {
     "name": "stdout",
     "output_type": "stream",
     "text": [
      "Rabbit\n"
     ]
    }
   ],
   "source": [
    "print(r.name)"
   ]
  },
  {
   "cell_type": "markdown",
   "metadata": {},
   "source": [
    "Now lets create another instance of `Animal`"
   ]
  },
  {
   "cell_type": "code",
   "execution_count": 6,
   "metadata": {},
   "outputs": [],
   "source": [
    "t = Animal(\"Tortoise\")"
   ]
  },
  {
   "cell_type": "markdown",
   "metadata": {},
   "source": [
    "Even though they are of the same class with the same attributes, the values of those attributes are different."
   ]
  },
  {
   "cell_type": "code",
   "execution_count": 7,
   "metadata": {},
   "outputs": [
    {
     "data": {
      "text/plain": [
       "False"
      ]
     },
     "execution_count": 7,
     "metadata": {},
     "output_type": "execute_result"
    }
   ],
   "source": [
    "t.name == r.name"
   ]
  },
  {
   "cell_type": "markdown",
   "metadata": {},
   "source": [
    "In addition to storing data in attributes we can define functions that can act on the value of attributes for an instance of `Animal`."
   ]
  },
  {
   "cell_type": "code",
   "execution_count": 8,
   "metadata": {},
   "outputs": [],
   "source": [
    "class Animal:\n",
    "    def __init__(self, name, speed):\n",
    "        self.name = name\n",
    "        self.speed = speed\n",
    "        \n",
    "    def move(self):\n",
    "        if self.speed < 2:\n",
    "            print(f\"{self.name} moves at a moderate speed\")\n",
    "        elif self.speed > 2:\n",
    "            print(f\"{self.name} zooms along\")    "
   ]
  },
  {
   "cell_type": "code",
   "execution_count": 9,
   "metadata": {},
   "outputs": [],
   "source": [
    "r = Animal(\"Rabbit\", 5)\n",
    "t = Animal(\"Tortoise\", 0.5)"
   ]
  },
  {
   "cell_type": "code",
   "execution_count": 10,
   "metadata": {},
   "outputs": [
    {
     "name": "stdout",
     "output_type": "stream",
     "text": [
      "Rabbit zooms along\n"
     ]
    }
   ],
   "source": [
    "r.move()"
   ]
  },
  {
   "cell_type": "code",
   "execution_count": 11,
   "metadata": {},
   "outputs": [
    {
     "name": "stdout",
     "output_type": "stream",
     "text": [
      "Tortoise moves at a moderate speed\n"
     ]
    }
   ],
   "source": [
    "t.move()"
   ]
  },
  {
   "cell_type": "markdown",
   "metadata": {},
   "source": [
    "Now we can implement additional logic in one place that will react the values we use to create an instance of our class."
   ]
  },
  {
   "cell_type": "code",
   "execution_count": 12,
   "metadata": {},
   "outputs": [],
   "source": [
    "class Animal:\n",
    "    \n",
    "    def __init__(self, name, speed, is_flier = False, has_fur = True):\n",
    "        self.name = name\n",
    "        self.speed = speed\n",
    "        self.is_flier = is_flier\n",
    "        self.has_fur = has_fur\n",
    "        \n",
    "    def is_cuddly(self):\n",
    "        if self.is_flier:\n",
    "            print(f\"{self.name} flies away\")\n",
    "            return False\n",
    "        else:\n",
    "            if self.has_fur:\n",
    "                if self.speed > 3:\n",
    "                    print(f\"{self.name} runs away and leaves a trail of fur behind\")\n",
    "                    return False\n",
    "                else:\n",
    "                    print(f\"{self.name} is cudlly\")\n",
    "                return True\n",
    "            else:\n",
    "                print(f\"{self.name} is not cuddly\")\n",
    "                return False\n",
    "        \n",
    "    def move(self):\n",
    "        if self.is_flier:\n",
    "            print(f\"{self.name} flys away\")\n",
    "        elif self.speed < 0:\n",
    "            print(\"That's not right\")\n",
    "        elif self.speed < 2:\n",
    "            print(f\"{self.name} moves at a moderate speed\")\n",
    "        elif self.speed > 2:\n",
    "            print(f\"{self.name} zooms along\")"
   ]
  },
  {
   "cell_type": "code",
   "execution_count": 13,
   "metadata": {},
   "outputs": [],
   "source": [
    "r = Animal(\"Rabbit\", 5)\n",
    "t = Animal(\"Tortoise\", 0.5)"
   ]
  },
  {
   "cell_type": "code",
   "execution_count": 14,
   "metadata": {},
   "outputs": [],
   "source": [
    "c = Animal(\"Cat\", 1)"
   ]
  },
  {
   "cell_type": "code",
   "execution_count": 15,
   "metadata": {},
   "outputs": [],
   "source": [
    "d = Animal(\"Dog\", 3)"
   ]
  },
  {
   "cell_type": "code",
   "execution_count": 16,
   "metadata": {},
   "outputs": [
    {
     "name": "stdout",
     "output_type": "stream",
     "text": [
      "Cat moves at a moderate speed\n"
     ]
    }
   ],
   "source": [
    "c.move()"
   ]
  },
  {
   "cell_type": "code",
   "execution_count": 17,
   "metadata": {},
   "outputs": [
    {
     "name": "stdout",
     "output_type": "stream",
     "text": [
      "Dog zooms along\n"
     ]
    }
   ],
   "source": [
    "d.move()"
   ]
  },
  {
   "cell_type": "code",
   "execution_count": 18,
   "metadata": {},
   "outputs": [],
   "source": [
    "p = Animal(\"Parrot\", 4, True)"
   ]
  },
  {
   "cell_type": "code",
   "execution_count": 19,
   "metadata": {},
   "outputs": [
    {
     "name": "stdout",
     "output_type": "stream",
     "text": [
      "Parrot flys away\n"
     ]
    }
   ],
   "source": [
    "p.move()"
   ]
  },
  {
   "cell_type": "markdown",
   "metadata": {},
   "source": [
    "Because instances of a class can be contain in a variable, we can pass these variables to functions.\n",
    "\n",
    "And because instances of class can have functions we can pass instances of another class into these functions.\n",
    "\n",
    "Lets make a `Human` class that has a method to pet (touch) animals."
   ]
  },
  {
   "cell_type": "code",
   "execution_count": 20,
   "metadata": {},
   "outputs": [],
   "source": [
    "class Human:\n",
    "    \n",
    "    def __init__(self, name):\n",
    "        self.name = name\n",
    "\n",
    "    def pet_animal(self, x):\n",
    "        \n",
    "        if x.is_cuddly():\n",
    "            print(f\"{self.name} feels happier\")\n",
    "        else:\n",
    "            print(f\"{self.name} is sad :(\")"
   ]
  },
  {
   "cell_type": "code",
   "execution_count": 21,
   "metadata": {},
   "outputs": [],
   "source": [
    "ryan = Human(\"Ryan\")"
   ]
  },
  {
   "cell_type": "code",
   "execution_count": 22,
   "metadata": {},
   "outputs": [
    {
     "name": "stdout",
     "output_type": "stream",
     "text": [
      "Dog is cudlly\n",
      "Ryan feels happier\n"
     ]
    }
   ],
   "source": [
    "ryan.pet_animal(d)"
   ]
  },
  {
   "cell_type": "code",
   "execution_count": 23,
   "metadata": {},
   "outputs": [
    {
     "name": "stdout",
     "output_type": "stream",
     "text": [
      "Parrot flies away\n",
      "Ryan is sad :(\n"
     ]
    }
   ],
   "source": [
    "ryan.pet_animal(p)"
   ]
  },
  {
   "cell_type": "code",
   "execution_count": 24,
   "metadata": {},
   "outputs": [
    {
     "name": "stdout",
     "output_type": "stream",
     "text": [
      "Rabbit runs away and leaves a trail of fur behind\n",
      "Ryan is sad :(\n"
     ]
    }
   ],
   "source": [
    "ryan.pet_animal(r)"
   ]
  },
  {
   "cell_type": "markdown",
   "metadata": {},
   "source": [
    "However we are not limited only passing in `Animals` to our `pet_animal` method.\n",
    "\n",
    "In fact we can pass in any datatype as long it has a `is_cuddly` method.\n",
    "\n",
    "To demonstate this - lets make a pillow Class."
   ]
  },
  {
   "cell_type": "code",
   "execution_count": 25,
   "metadata": {},
   "outputs": [],
   "source": [
    "class Pillow:\n",
    "    \n",
    "    def __init__(self, material):\n",
    "        self.material = material\n",
    "    \n",
    "    def is_cuddly(self):\n",
    "        print(f\"The pillow made of {self.material} is cuddly\")\n",
    "        return True"
   ]
  },
  {
   "cell_type": "code",
   "execution_count": 26,
   "metadata": {},
   "outputs": [],
   "source": [
    "cotton_pillow = Pillow(\"Cotton\")"
   ]
  },
  {
   "cell_type": "markdown",
   "metadata": {},
   "source": [
    "Because the `Pillow` class has a `is_cuddly` we can pass it into `ryan.pet_animal` and our code will still work."
   ]
  },
  {
   "cell_type": "code",
   "execution_count": 27,
   "metadata": {},
   "outputs": [
    {
     "name": "stdout",
     "output_type": "stream",
     "text": [
      "The pillow made of Cotton is cuddly\n",
      "Ryan feels happier\n"
     ]
    }
   ],
   "source": [
    "ryan.pet_animal(cotton_pillow)"
   ]
  },
  {
   "cell_type": "markdown",
   "metadata": {},
   "source": [
    "Now to give a brief example of inheritance, lets create a `Hero` class.\n",
    "\n",
    "Heros, as also Humans, so we say that `Hero` inherits from `Human`. This means that all of the functions and attributes that are present in `Human` are available in `Hero`."
   ]
  },
  {
   "cell_type": "code",
   "execution_count": 28,
   "metadata": {},
   "outputs": [],
   "source": [
    "class Hero(Human):\n",
    "    \n",
    "    def __init__(self, name, powers):\n",
    "        # this line calls the __init__ method on\n",
    "        # Hero's \"super\" aka supersede meaning\n",
    "        # it looks to the Class that come before it\n",
    "        # and call it's init method\n",
    "        super(Hero, self).__init__(name)\n",
    "        self.powers = powers\n",
    "        "
   ]
  },
  {
   "cell_type": "code",
   "execution_count": 29,
   "metadata": {},
   "outputs": [],
   "source": [
    "batman = Hero(\"Batman\", \"Gadgets and a cool car\")"
   ]
  },
  {
   "cell_type": "markdown",
   "metadata": {},
   "source": [
    "Because Batman is a `Hero`, he is also a `Human` which means he can pet the cat."
   ]
  },
  {
   "cell_type": "code",
   "execution_count": 30,
   "metadata": {},
   "outputs": [
    {
     "name": "stdout",
     "output_type": "stream",
     "text": [
      "Cat is cudlly\n",
      "Batman feels happier\n"
     ]
    }
   ],
   "source": [
    "batman.pet_animal(c)"
   ]
  },
  {
   "cell_type": "markdown",
   "metadata": {},
   "source": [
    "For a video overview of classes watch this video: https://www.youtube.com/watch?v=apACNr7DC_s"
   ]
  },
  {
   "cell_type": "markdown",
   "metadata": {},
   "source": [
    "For a detailed blog post about classes read this: https://realpython.com/python3-object-oriented-programming/"
   ]
  },
  {
   "cell_type": "code",
   "execution_count": null,
   "metadata": {},
   "outputs": [],
   "source": []
  }
 ],
 "metadata": {
  "kernelspec": {
   "display_name": "Python 3.8.2 64-bit ('PythonData': conda)",
   "language": "python",
   "name": "python38264bitpythondatacondad75933a419364c33a0623b6a6469479d"
  },
  "language_info": {
   "codemirror_mode": {
    "name": "ipython",
    "version": 3
   },
   "file_extension": ".py",
   "mimetype": "text/x-python",
   "name": "python",
   "nbconvert_exporter": "python",
   "pygments_lexer": "ipython3",
   "version": "3.8.3"
  }
 },
 "nbformat": 4,
 "nbformat_minor": 4
}
